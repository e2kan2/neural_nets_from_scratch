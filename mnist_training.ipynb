{
 "cells": [
  {
   "cell_type": "markdown",
   "metadata": {},
   "source": [
    "In this notebook, we will train our homemade neural network on MNIST data. In the second part we will do the same(not exactly) with the Keras library. As usual let's start with the imports. I used keras for getting the *mnist* data. "
   ]
  },
  {
   "cell_type": "code",
   "execution_count": 1,
   "metadata": {},
   "outputs": [
    {
     "name": "stderr",
     "output_type": "stream",
     "text": [
      "Using TensorFlow backend.\n"
     ]
    }
   ],
   "source": [
    "import numpy as np\n",
    "from nn import *\n",
    "from layers import Dense, Dropout, BatchNormalization\n",
    "from optimizers import SGD, RMSProp, Adam\n",
    "from losses import Softmax\n",
    "from activations import ReLU\n",
    "\n",
    "import matplotlib.pyplot as plt\n",
    "# For mnist data\n",
    "from keras.datasets import mnist"
   ]
  },
  {
   "cell_type": "code",
   "execution_count": 2,
   "metadata": {},
   "outputs": [],
   "source": [
    "(X_train, y_train), (X_test, y_test) = mnist.load_data()\n",
    "\n",
    "X_train = X_train.reshape(60000, 784)\n",
    "X_test = X_test.reshape(10000, 784)\n",
    "\n",
    "X_train = X_train.astype('float32')\n",
    "X_test = X_test.astype('float32')\n",
    "\n",
    "X_train /= 255\n",
    "X_test /= 255"
   ]
  },
  {
   "cell_type": "code",
   "execution_count": 3,
   "metadata": {},
   "outputs": [],
   "source": [
    "m, n = X_train.shape\n",
    "lr = 0.01\n",
    "num_iter = 10\n",
    "print_verbose = 1\n",
    "\n",
    "loss = Softmax()\n",
    "optimizer = SGD(lr)\n",
    "# optimizer = Adam()\n",
    "\n",
    "model = NeuralNet(loss, optimizer)\n",
    "model.add(Dense(n, 16))\n",
    "model.add(ReLU())\n",
    "model.add(Dense(16, 16))\n",
    "model.add(ReLU())\n",
    "model.add(Dense(16, 10))"
   ]
  },
  {
   "cell_type": "code",
   "execution_count": 4,
   "metadata": {
    "scrolled": true
   },
   "outputs": [
    {
     "name": "stdout",
     "output_type": "stream",
     "text": [
      "Iteration : 0, Loss : 0.870919871209824\n",
      "Iteration : 1, Loss : 0.3676433753425043\n",
      "Iteration : 2, Loss : 0.3167127785247375\n",
      "Iteration : 3, Loss : 0.29234317557266404\n",
      "Iteration : 4, Loss : 0.2753571249787181\n",
      "Iteration : 5, Loss : 0.26209675839360225\n",
      "Iteration : 6, Loss : 0.2513403736239748\n",
      "Iteration : 7, Loss : 0.24208180740927712\n",
      "Iteration : 8, Loss : 0.2338290341438252\n",
      "Iteration : 9, Loss : 0.22632541458384425\n"
     ]
    },
    {
     "data": {
      "image/png": "[encoded data removed]",
      "text/plain": [
       "<Figure size 432x288 with 1 Axes>"
      ]
     },
     "metadata": {},
     "output_type": "display_data"
    }
   ],
   "source": [
    "losses = model.train(X_train, y_train, n_iter=num_iter, print_verbose=print_verbose)\n",
    "plt.plot(np.arange(num_iter), losses);"
   ]
  },
  {
   "cell_type": "code",
   "execution_count": 5,
   "metadata": {},
   "outputs": [
    {
     "data": {
      "text/plain": [
       "0.9291"
      ]
     },
     "execution_count": 5,
     "metadata": {},
     "output_type": "execute_result"
    }
   ],
   "source": [
    "preds = model.predict(X_test)\n",
    "(preds == y_test).mean()"
   ]
  },
  {
   "cell_type": "markdown",
   "metadata": {},
   "source": [
    "Our model achieved pretty good result ha(!), if you want, you can change the network architecture and add some more layers and get better results than me. But don't forget adding more layers will come with the cost. Also don't forget the overfitting. For now i have only implemented the Dropout for regularization, but you can add L2 regularization too as an exercise."
   ]
  },
  {
   "cell_type": "markdown",
   "metadata": {},
   "source": [
    "### Same model in Keras"
   ]
  },
  {
   "cell_type": "code",
   "execution_count": 17,
   "metadata": {},
   "outputs": [],
   "source": [
    "from keras.layers import Dense, Dropout\n",
    "from keras.models import Sequential\n",
    "from keras.utils import to_categorical"
   ]
  },
  {
   "cell_type": "code",
   "execution_count": 18,
   "metadata": {},
   "outputs": [],
   "source": [
    "y_train = to_categorical(y_train)\n",
    "y_test = to_categorical(y_test)"
   ]
  },
  {
   "cell_type": "code",
   "execution_count": 19,
   "metadata": {},
   "outputs": [],
   "source": [
    "model = Sequential()\n",
    "model.add(Dense(16, activation='relu', input_shape=(784, )))\n",
    "model.add(Dense(16, activation='relu'))\n",
    "model.add(Dense(16, activation='relu'))\n",
    "model.add(Dense(10, activation='softmax'))\n",
    "\n",
    "model.compile(loss='categorical_crossentropy', optimizer='adam', metrics=['accuracy'])"
   ]
  },
  {
   "cell_type": "code",
   "execution_count": 20,
   "metadata": {},
   "outputs": [
    {
     "name": "stdout",
     "output_type": "stream",
     "text": [
      "Epoch 1/5\n",
      "60000/60000 [==============================] - 7s 125us/step - loss: 0.5229 - acc: 0.8452\n",
      "Epoch 2/5\n",
      "60000/60000 [==============================] - 6s 104us/step - loss: 0.2561 - acc: 0.9256\n",
      "Epoch 3/5\n",
      "60000/60000 [==============================] - 6s 108us/step - loss: 0.2135 - acc: 0.9379\n",
      "Epoch 4/5\n",
      "60000/60000 [==============================] - 6s 106us/step - loss: 0.1904 - acc: 0.9442\n",
      "Epoch 5/5\n",
      "60000/60000 [==============================] - 6s 105us/step - loss: 0.1758 - acc: 0.9471\n"
     ]
    }
   ],
   "source": [
    "history = model.fit(X_train, y_train, epochs=5, batch_size=32)"
   ]
  },
  {
   "cell_type": "code",
   "execution_count": 21,
   "metadata": {},
   "outputs": [
    {
     "name": "stdout",
     "output_type": "stream",
     "text": [
      "10000/10000 [==============================] - 1s 55us/step\n",
      "Test score :  0.18513718750886618\n",
      "Test accuracy :  0.9467\n"
     ]
    }
   ],
   "source": [
    "score = model.evaluate(X_test, y_test)\n",
    "\n",
    "print(\"Test score : \", score[0])\n",
    "print(\"Test accuracy : \", score[1])"
   ]
  },
  {
   "cell_type": "code",
   "execution_count": 22,
   "metadata": {},
   "outputs": [
    {
     "data": {
      "text/plain": [
       "[0.5229083631694317,\n",
       " 0.2560997333695491,\n",
       " 0.21350992750227452,\n",
       " 0.19043989047209423,\n",
       " 0.17576118896802267]"
      ]
     },
     "execution_count": 22,
     "metadata": {},
     "output_type": "execute_result"
    }
   ],
   "source": [
    "history.history['loss']"
   ]
  }
 ],
 "metadata": {
  "kernelspec": {
   "display_name": "Python 3",
   "language": "python",
   "name": "python3"
  },
  "language_info": {
   "codemirror_mode": {
    "name": "ipython",
    "version": 3
   },
   "file_extension": ".py",
   "mimetype": "text/x-python",
   "name": "python",
   "nbconvert_exporter": "python",
   "pygments_lexer": "ipython3",
   "version": "3.6.5"
  }
 },
 "nbformat": 4,
 "nbformat_minor": 2
}
